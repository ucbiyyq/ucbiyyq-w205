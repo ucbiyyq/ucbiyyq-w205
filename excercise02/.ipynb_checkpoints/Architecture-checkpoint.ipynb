{
 "cells": [
  {
   "cell_type": "markdown",
   "metadata": {},
   "source": [
    "## Folder structure, the important parts\n",
    "\n",
    "/excercise02/\n",
    "* finalresults.py\n",
    "* histogram.py\n",
    "* extweetwordcount/\n",
    " * topologies/\n",
    "   * extweetwordcount.clj\n",
    " * src/\n",
    "   * bolts/\n",
    "     * parse.py\n",
    "     * wordcount.py\n",
    "   * spouts/\n",
    "     * tweets.py\n"
   ]
  },
  {
   "cell_type": "markdown",
   "metadata": {},
   "source": [
    "## Notes on the project files\n",
    "\n",
    "finalresults.py and historgram.py are the script-deliverables that we use at the end of a run\n",
    "* See the README.txt on how to run them\n",
    "\n",
    "The extweetwordcount folder holds the Storm project that consumes the twitter app data\n",
    "\n",
    "The extweetwordcount.clj file defines the topology:\n",
    "* 3 instances of tweets spouts, which consume the twitter feed\n",
    "* 3 instances of parse bolts, which parses the twitter feed into words\n",
    "* and 2 instances of wordcount bolts, which stores the word count data into the postgres database"
   ]
  },
  {
   "cell_type": "markdown",
   "metadata": {},
   "source": [
    "## Dependencies\n",
    "\n",
    "### Twitter application\n",
    "\n",
    "The project depends on a twitter application\n",
    "* credentials to the twitter application are stored in plain text in the tweets.py spout file\n",
    "\n",
    "### Postgres database\n",
    "\n",
    "The project depends on a local postgres *tcount* database, with a single table *tweetwordcount*\n",
    "* credentials to the postgres database are stored in plain text in the\n",
    " * wordcount.py bolt file\n",
    " * and the finalresults.py and histogram.py script-deliverables\n",
    " \n",
    "The intended use of the table is to store an instance of a word, and a 1-count, for each instance the word appears in the twitter feed. Counts and aggregations are performed by the script-deliverables.\n"
   ]
  },
  {
   "cell_type": "raw",
   "metadata": {},
   "source": [
    "tcount=# \\dt\n",
    "             List of relations\n",
    " Schema |      Name      | Type  |  Owner\n",
    "--------+----------------+-------+----------\n",
    " public | tweetwordcount | table | postgres\n",
    "(1 row)\n",
    "\n",
    "tcount=# \\d tweetwordcount\n",
    "          Table \"public.tweetwordcount\"\n",
    "   Column   |          Type          | Modifiers\n",
    "------------+------------------------+-----------\n",
    " word       | character varying(200) |\n",
    " word_count | integer                |\n",
    "\n",
    "tcount=#"
   ]
  }
 ],
 "metadata": {
  "kernelspec": {
   "display_name": "Python 3",
   "language": "python",
   "name": "python3"
  },
  "language_info": {
   "codemirror_mode": {
    "name": "ipython",
    "version": 3
   },
   "file_extension": ".py",
   "mimetype": "text/x-python",
   "name": "python",
   "nbconvert_exporter": "python",
   "pygments_lexer": "ipython3",
   "version": "3.6.0"
  }
 },
 "nbformat": 4,
 "nbformat_minor": 2
}
